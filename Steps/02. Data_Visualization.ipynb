{
 "cells": [
  {
   "cell_type": "code",
   "execution_count": 29,
   "id": "71dba99e",
   "metadata": {},
   "outputs": [],
   "source": [
    "import pandas as pd\n",
    "import seaborn as sns\n",
    "import matplotlib.pyplot as plt\n",
    "from wordcloud import WordCloud\n",
    "import numpy as np\n",
    "\n"
   ]
  },
  {
   "cell_type": "code",
   "execution_count": 30,
   "id": "af673a31",
   "metadata": {},
   "outputs": [
    {
     "data": {
      "application/vnd.microsoft.datawrangler.viewer.v0+json": {
       "columns": [
        {
         "name": "index",
         "rawType": "int64",
         "type": "integer"
        },
        {
         "name": "Unnamed: 0.1",
         "rawType": "int64",
         "type": "integer"
        },
        {
         "name": "Unnamed: 0",
         "rawType": "int64",
         "type": "integer"
        },
        {
         "name": "ad_url",
         "rawType": "object",
         "type": "string"
        },
        {
         "name": "title",
         "rawType": "object",
         "type": "string"
        },
        {
         "name": "location",
         "rawType": "object",
         "type": "string"
        },
        {
         "name": "model_year",
         "rawType": "float64",
         "type": "float"
        },
        {
         "name": "price",
         "rawType": "object",
         "type": "string"
        },
        {
         "name": "mileage",
         "rawType": "object",
         "type": "string"
        },
        {
         "name": "engine_type",
         "rawType": "object",
         "type": "string"
        },
        {
         "name": "transmission",
         "rawType": "object",
         "type": "string"
        },
        {
         "name": "registered_in",
         "rawType": "object",
         "type": "string"
        },
        {
         "name": "color",
         "rawType": "object",
         "type": "string"
        },
        {
         "name": "assembly",
         "rawType": "object",
         "type": "string"
        },
        {
         "name": "engine_capacity",
         "rawType": "object",
         "type": "string"
        },
        {
         "name": "body_type",
         "rawType": "object",
         "type": "string"
        },
        {
         "name": "ad_last_updated",
         "rawType": "object",
         "type": "string"
        },
        {
         "name": "car_features",
         "rawType": "object",
         "type": "string"
        },
        {
         "name": "description",
         "rawType": "object",
         "type": "string"
        }
       ],
       "ref": "f76142eb-8a5b-4eb1-bb95-f312fc0567b3",
       "rows": [
        [
         "0",
         "0",
         "0",
         "https://www.pakwheels.com/used-cars/honda-civic-2007-for-sale-in-islamabad-6710599",
         "Honda Civic VTi Oriel Prosmatec 1.8 i-VTEC 2007",
         " Islamabad Islamabad",
         "2007.0",
         "PKR 16.5 lacs",
         "100,000 km",
         "Petrol",
         "Automatic",
         "Lahore",
         "Grey",
         "Imported Cars",
         "1800 cc",
         "Sedan",
         "Oct 09, 2022",
         "ABS\nAM/FM Radio\nAir Bags\nAir Conditioning\nAlloy Rims\nCD Player\nDVD Player\nImmobilizer Key\nKeyless Entry\nPower Locks\nPower Mirrors\nPower Steering\nPower Windows\nSun Roof",
         "2007 model full option Chat piller geniune or inner total packed Engine suspension\nTires are 80% Multimedia steeringAndroid panel installed No work required Demand 1650000. All original documents are complete\n. Petrol driven, CNG never installed . After Market Alloy rims. Urgently need to sellthe\ncar. Token tax is up to date.\nMention PakWheels.com when calling Seller to get a good deal"
        ],
        [
         "1",
         "1",
         "1",
         "https://www.pakwheels.com/used-cars/suzuki-mehran-2012-for-sale-in-faisalabad-6723518",
         "Suzuki Mehran VX Euro II 2012",
         " Eden Gardens, Faisalabad Punjab",
         "2012.0",
         "PKR 7 lacs",
         "100,000 km",
         "Petrol",
         "Manual",
         "Faisalabad",
         "Grey",
         "Imported Cars",
         "800 cc",
         "Hatchback",
         "Oct 09, 2022",
         "AM/FM Radio\nCD Player\nImmobilizer Key",
         "Very smooth drive,70% in orignal paint rest of shower without potien,new tyres,new alloy rims,non accidental,HD headlights installed,good AC,new poshish with soft consule,fuel efficient power full engine with good average,rust free body,urgent sale,minor negotiable\nMention PakWheels.com when calling Seller to get a good deal"
        ],
        [
         "2",
         "2",
         "2",
         "https://www.pakwheels.com/used-cars/honda-civic-1995-for-sale-in-rawalpindi-6456417",
         "Honda Civic EX 1995",
         " Bostan Road, Rawalpindi Punjab",
         "1995.0",
         "PKR 7.6 lacs",
         "999 km",
         "Petrol",
         "Manual",
         "Lahore",
         "Black",
         "Imported Cars",
         "1500 cc",
         "Sedan",
         "Oct 09, 2022",
         "AM/FM Radio\nAir Conditioning\nAlloy Rims\nCassette Player\nPower Locks\nPower Mirrors\nPower Steering\nPower Windows",
         "1600cc Engine installed Alloy RimsAir Condition WorkingSports Headlights InstalledJust Buy And DrivePrice is little Bit Negotiable for\nSerious Buyers Only\nMention PakWheels.com when calling Seller to get a good deal"
        ],
        [
         "3",
         "3",
         "3",
         "https://www.pakwheels.com/used-cars/toyota-fortuner-2013-for-sale-in-chakwal-6514454",
         "Toyota Fortuner 2.7 VVTi 2013",
         " Kallar Kahar Road, Chakwal Punjab",
         "2013.0",
         "PKR 70 lacs",
         "94,000 km",
         "Petrol",
         "Automatic",
         "Lahore",
         "Black",
         "Imported Cars",
         "2700 cc",
         "SUV",
         "Oct 09, 2022",
         "ABS\nAM/FM Radio\nAir Bags\nAir Conditioning\nAlloy Rims\nDVD Player\nImmobilizer Key\nKeyless Entry\nNavigation System\nPower Locks\nPower Mirrors\nPower Steering\nPower Windows",
         "Inside out fully original. Original return file is available . In showroom condition.\nMention PakWheels.com when calling Seller to get a good deal"
        ],
        [
         "4",
         "4",
         "4",
         "https://www.pakwheels.com/used-cars/suzuki-mehran-2015-for-sale-in-muzaffar-gargh-6723516",
         "Suzuki Mehran VX Euro II 2015",
         " Muzaffar Gargh Punjab",
         "2015.0",
         "PKR 8 lacs",
         "86,000 km",
         "Petrol",
         "Manual",
         "Multan",
         "Grey",
         "Imported Cars",
         "796 cc",
         "Hatchback",
         "Oct 09, 2022",
         "AM/FM Radio\nCD Player\nImmobilizer Key",
         "gari total genion hy.chill a.c.new tires.no work required.engine nd suspension ok.. Original return file is available . All service history log maintained. New tires installed recently . Non accidental. Original book is available as well. Engine in pristine condition .\nMention PakWheels.com when calling Seller to get a good deal"
        ]
       ],
       "shape": {
        "columns": 18,
        "rows": 5
       }
      },
      "text/html": [
       "<div>\n",
       "<style scoped>\n",
       "    .dataframe tbody tr th:only-of-type {\n",
       "        vertical-align: middle;\n",
       "    }\n",
       "\n",
       "    .dataframe tbody tr th {\n",
       "        vertical-align: top;\n",
       "    }\n",
       "\n",
       "    .dataframe thead th {\n",
       "        text-align: right;\n",
       "    }\n",
       "</style>\n",
       "<table border=\"1\" class=\"dataframe\">\n",
       "  <thead>\n",
       "    <tr style=\"text-align: right;\">\n",
       "      <th></th>\n",
       "      <th>Unnamed: 0.1</th>\n",
       "      <th>Unnamed: 0</th>\n",
       "      <th>ad_url</th>\n",
       "      <th>title</th>\n",
       "      <th>location</th>\n",
       "      <th>model_year</th>\n",
       "      <th>price</th>\n",
       "      <th>mileage</th>\n",
       "      <th>engine_type</th>\n",
       "      <th>transmission</th>\n",
       "      <th>registered_in</th>\n",
       "      <th>color</th>\n",
       "      <th>assembly</th>\n",
       "      <th>engine_capacity</th>\n",
       "      <th>body_type</th>\n",
       "      <th>ad_last_updated</th>\n",
       "      <th>car_features</th>\n",
       "      <th>description</th>\n",
       "    </tr>\n",
       "  </thead>\n",
       "  <tbody>\n",
       "    <tr>\n",
       "      <th>0</th>\n",
       "      <td>0</td>\n",
       "      <td>0</td>\n",
       "      <td>https://www.pakwheels.com/used-cars/honda-civi...</td>\n",
       "      <td>Honda Civic VTi Oriel Prosmatec 1.8 i-VTEC 2007</td>\n",
       "      <td>Islamabad Islamabad</td>\n",
       "      <td>2007.0</td>\n",
       "      <td>PKR 16.5 lacs</td>\n",
       "      <td>100,000 km</td>\n",
       "      <td>Petrol</td>\n",
       "      <td>Automatic</td>\n",
       "      <td>Lahore</td>\n",
       "      <td>Grey</td>\n",
       "      <td>Imported Cars</td>\n",
       "      <td>1800 cc</td>\n",
       "      <td>Sedan</td>\n",
       "      <td>Oct 09, 2022</td>\n",
       "      <td>ABS\\nAM/FM Radio\\nAir Bags\\nAir Conditioning\\n...</td>\n",
       "      <td>2007 model full option Chat piller geniune or ...</td>\n",
       "    </tr>\n",
       "    <tr>\n",
       "      <th>1</th>\n",
       "      <td>1</td>\n",
       "      <td>1</td>\n",
       "      <td>https://www.pakwheels.com/used-cars/suzuki-meh...</td>\n",
       "      <td>Suzuki Mehran VX Euro II 2012</td>\n",
       "      <td>Eden Gardens, Faisalabad Punjab</td>\n",
       "      <td>2012.0</td>\n",
       "      <td>PKR 7 lacs</td>\n",
       "      <td>100,000 km</td>\n",
       "      <td>Petrol</td>\n",
       "      <td>Manual</td>\n",
       "      <td>Faisalabad</td>\n",
       "      <td>Grey</td>\n",
       "      <td>Imported Cars</td>\n",
       "      <td>800 cc</td>\n",
       "      <td>Hatchback</td>\n",
       "      <td>Oct 09, 2022</td>\n",
       "      <td>AM/FM Radio\\nCD Player\\nImmobilizer Key</td>\n",
       "      <td>Very smooth drive,70% in orignal paint rest of...</td>\n",
       "    </tr>\n",
       "    <tr>\n",
       "      <th>2</th>\n",
       "      <td>2</td>\n",
       "      <td>2</td>\n",
       "      <td>https://www.pakwheels.com/used-cars/honda-civi...</td>\n",
       "      <td>Honda Civic EX 1995</td>\n",
       "      <td>Bostan Road, Rawalpindi Punjab</td>\n",
       "      <td>1995.0</td>\n",
       "      <td>PKR 7.6 lacs</td>\n",
       "      <td>999 km</td>\n",
       "      <td>Petrol</td>\n",
       "      <td>Manual</td>\n",
       "      <td>Lahore</td>\n",
       "      <td>Black</td>\n",
       "      <td>Imported Cars</td>\n",
       "      <td>1500 cc</td>\n",
       "      <td>Sedan</td>\n",
       "      <td>Oct 09, 2022</td>\n",
       "      <td>AM/FM Radio\\nAir Conditioning\\nAlloy Rims\\nCas...</td>\n",
       "      <td>1600cc Engine installed Alloy RimsAir Conditio...</td>\n",
       "    </tr>\n",
       "    <tr>\n",
       "      <th>3</th>\n",
       "      <td>3</td>\n",
       "      <td>3</td>\n",
       "      <td>https://www.pakwheels.com/used-cars/toyota-for...</td>\n",
       "      <td>Toyota Fortuner 2.7 VVTi 2013</td>\n",
       "      <td>Kallar Kahar Road, Chakwal Punjab</td>\n",
       "      <td>2013.0</td>\n",
       "      <td>PKR 70 lacs</td>\n",
       "      <td>94,000 km</td>\n",
       "      <td>Petrol</td>\n",
       "      <td>Automatic</td>\n",
       "      <td>Lahore</td>\n",
       "      <td>Black</td>\n",
       "      <td>Imported Cars</td>\n",
       "      <td>2700 cc</td>\n",
       "      <td>SUV</td>\n",
       "      <td>Oct 09, 2022</td>\n",
       "      <td>ABS\\nAM/FM Radio\\nAir Bags\\nAir Conditioning\\n...</td>\n",
       "      <td>Inside out fully original. Original return fil...</td>\n",
       "    </tr>\n",
       "    <tr>\n",
       "      <th>4</th>\n",
       "      <td>4</td>\n",
       "      <td>4</td>\n",
       "      <td>https://www.pakwheels.com/used-cars/suzuki-meh...</td>\n",
       "      <td>Suzuki Mehran VX Euro II 2015</td>\n",
       "      <td>Muzaffar Gargh Punjab</td>\n",
       "      <td>2015.0</td>\n",
       "      <td>PKR 8 lacs</td>\n",
       "      <td>86,000 km</td>\n",
       "      <td>Petrol</td>\n",
       "      <td>Manual</td>\n",
       "      <td>Multan</td>\n",
       "      <td>Grey</td>\n",
       "      <td>Imported Cars</td>\n",
       "      <td>796 cc</td>\n",
       "      <td>Hatchback</td>\n",
       "      <td>Oct 09, 2022</td>\n",
       "      <td>AM/FM Radio\\nCD Player\\nImmobilizer Key</td>\n",
       "      <td>gari total genion hy.chill a.c.new tires.no wo...</td>\n",
       "    </tr>\n",
       "  </tbody>\n",
       "</table>\n",
       "</div>"
      ],
      "text/plain": [
       "   Unnamed: 0.1  Unnamed: 0  \\\n",
       "0             0           0   \n",
       "1             1           1   \n",
       "2             2           2   \n",
       "3             3           3   \n",
       "4             4           4   \n",
       "\n",
       "                                              ad_url  \\\n",
       "0  https://www.pakwheels.com/used-cars/honda-civi...   \n",
       "1  https://www.pakwheels.com/used-cars/suzuki-meh...   \n",
       "2  https://www.pakwheels.com/used-cars/honda-civi...   \n",
       "3  https://www.pakwheels.com/used-cars/toyota-for...   \n",
       "4  https://www.pakwheels.com/used-cars/suzuki-meh...   \n",
       "\n",
       "                                             title  \\\n",
       "0  Honda Civic VTi Oriel Prosmatec 1.8 i-VTEC 2007   \n",
       "1                    Suzuki Mehran VX Euro II 2012   \n",
       "2                              Honda Civic EX 1995   \n",
       "3                    Toyota Fortuner 2.7 VVTi 2013   \n",
       "4                    Suzuki Mehran VX Euro II 2015   \n",
       "\n",
       "                             location  model_year          price     mileage  \\\n",
       "0                 Islamabad Islamabad      2007.0  PKR 16.5 lacs  100,000 km   \n",
       "1     Eden Gardens, Faisalabad Punjab      2012.0     PKR 7 lacs  100,000 km   \n",
       "2      Bostan Road, Rawalpindi Punjab      1995.0   PKR 7.6 lacs      999 km   \n",
       "3   Kallar Kahar Road, Chakwal Punjab      2013.0    PKR 70 lacs   94,000 km   \n",
       "4               Muzaffar Gargh Punjab      2015.0     PKR 8 lacs   86,000 km   \n",
       "\n",
       "  engine_type transmission registered_in  color       assembly  \\\n",
       "0      Petrol    Automatic        Lahore   Grey  Imported Cars   \n",
       "1      Petrol       Manual    Faisalabad   Grey  Imported Cars   \n",
       "2      Petrol       Manual        Lahore  Black  Imported Cars   \n",
       "3      Petrol    Automatic        Lahore  Black  Imported Cars   \n",
       "4      Petrol       Manual        Multan   Grey  Imported Cars   \n",
       "\n",
       "  engine_capacity  body_type ad_last_updated  \\\n",
       "0         1800 cc      Sedan    Oct 09, 2022   \n",
       "1          800 cc  Hatchback    Oct 09, 2022   \n",
       "2         1500 cc      Sedan    Oct 09, 2022   \n",
       "3         2700 cc        SUV    Oct 09, 2022   \n",
       "4          796 cc  Hatchback    Oct 09, 2022   \n",
       "\n",
       "                                        car_features  \\\n",
       "0  ABS\\nAM/FM Radio\\nAir Bags\\nAir Conditioning\\n...   \n",
       "1            AM/FM Radio\\nCD Player\\nImmobilizer Key   \n",
       "2  AM/FM Radio\\nAir Conditioning\\nAlloy Rims\\nCas...   \n",
       "3  ABS\\nAM/FM Radio\\nAir Bags\\nAir Conditioning\\n...   \n",
       "4            AM/FM Radio\\nCD Player\\nImmobilizer Key   \n",
       "\n",
       "                                         description  \n",
       "0  2007 model full option Chat piller geniune or ...  \n",
       "1  Very smooth drive,70% in orignal paint rest of...  \n",
       "2  1600cc Engine installed Alloy RimsAir Conditio...  \n",
       "3  Inside out fully original. Original return fil...  \n",
       "4  gari total genion hy.chill a.c.new tires.no wo...  "
      ]
     },
     "execution_count": 30,
     "metadata": {},
     "output_type": "execute_result"
    }
   ],
   "source": [
    "df = pd.read_csv('E:/Client_Projects/Sir_Malik/Price_Prediction_Model_v4/Data/pakwheels_cleaned.csv')\n",
    "df.head()"
   ]
  },
  {
   "cell_type": "code",
   "execution_count": 31,
   "id": "d9020fa3",
   "metadata": {},
   "outputs": [
    {
     "data": {
      "text/plain": [
       "Index(['Unnamed: 0.1', 'Unnamed: 0', 'ad_url', 'title', 'location',\n",
       "       'model_year', 'price', 'mileage', 'engine_type', 'transmission',\n",
       "       'registered_in', 'color', 'assembly', 'engine_capacity', 'body_type',\n",
       "       'ad_last_updated', 'car_features', 'description'],\n",
       "      dtype='object')"
      ]
     },
     "execution_count": 31,
     "metadata": {},
     "output_type": "execute_result"
    }
   ],
   "source": [
    "df.columns"
   ]
  },
  {
   "cell_type": "code",
   "execution_count": 32,
   "id": "c391bde2",
   "metadata": {},
   "outputs": [
    {
     "data": {
      "image/png": "[encoded data removed]",
      "text/plain": [
       "<Figure size 1200x600 with 1 Axes>"
      ]
     },
     "metadata": {},
     "output_type": "display_data"
    }
   ],
   "source": [
    "plt.figure(figsize=(12, 6))\n",
    "sns.histplot(df['price'], kde=True, bins=50)\n",
    "plt.title('Distribution of Car Prices')\n",
    "plt.xlabel('Price')\n",
    "plt.ylabel('Frequency')\n",
    "plt.show()"
   ]
  },
  {
   "cell_type": "code",
   "execution_count": null,
   "id": "14490fcd",
   "metadata": {},
   "outputs": [],
   "source": []
  }
 ],
 "metadata": {
  "kernelspec": {
   "display_name": "V4_Traning",
   "language": "python",
   "name": "python3"
  },
  "language_info": {
   "codemirror_mode": {
    "name": "ipython",
    "version": 3
   },
   "file_extension": ".py",
   "mimetype": "text/x-python",
   "name": "python",
   "nbconvert_exporter": "python",
   "pygments_lexer": "ipython3",
   "version": "3.13.5"
  }
 },
 "nbformat": 4,
 "nbformat_minor": 5
}
