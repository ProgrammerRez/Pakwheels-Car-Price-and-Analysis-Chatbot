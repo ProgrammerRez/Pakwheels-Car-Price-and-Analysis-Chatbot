{
 "cells": [
  {
   "cell_type": "code",
   "execution_count": 2,
   "id": "636e771a",
   "metadata": {},
   "outputs": [],
   "source": [
    "import pandas as pd"
   ]
  },
  {
   "cell_type": "code",
   "execution_count": 3,
   "id": "9b198ac9",
   "metadata": {},
   "outputs": [
    {
     "data": {
      "application/vnd.microsoft.datawrangler.viewer.v0+json": {
       "columns": [
        {
         "name": "index",
         "rawType": "int64",
         "type": "integer"
        },
        {
         "name": "Unnamed: 0",
         "rawType": "int64",
         "type": "integer"
        },
        {
         "name": "ad_url",
         "rawType": "object",
         "type": "string"
        },
        {
         "name": "title",
         "rawType": "object",
         "type": "string"
        },
        {
         "name": "location",
         "rawType": "object",
         "type": "string"
        },
        {
         "name": "model_year",
         "rawType": "float64",
         "type": "float"
        },
        {
         "name": "price",
         "rawType": "object",
         "type": "string"
        },
        {
         "name": "mileage",
         "rawType": "object",
         "type": "string"
        },
        {
         "name": "engine_type",
         "rawType": "object",
         "type": "string"
        },
        {
         "name": "transmission",
         "rawType": "object",
         "type": "string"
        },
        {
         "name": "registered_in",
         "rawType": "object",
         "type": "string"
        },
        {
         "name": "color",
         "rawType": "object",
         "type": "string"
        },
        {
         "name": "assembly",
         "rawType": "object",
         "type": "string"
        },
        {
         "name": "engine_capacity",
         "rawType": "object",
         "type": "string"
        },
        {
         "name": "body_type",
         "rawType": "object",
         "type": "string"
        },
        {
         "name": "ad_last_updated",
         "rawType": "object",
         "type": "string"
        },
        {
         "name": "car_features",
         "rawType": "object",
         "type": "string"
        },
        {
         "name": "description",
         "rawType": "object",
         "type": "string"
        }
       ],
       "ref": "6b4a4064-da2c-432f-97c2-f4de4673d7c7",
       "rows": [
        [
         "0",
         "0",
         "https://www.pakwheels.com/used-cars/honda-civic-2007-for-sale-in-islamabad-6710599",
         "Honda Civic VTi Oriel Prosmatec 1.8 i-VTEC 2007",
         " Islamabad Islamabad",
         "2007.0",
         "PKR 16.5 lacs",
         "100,000 km",
         "Petrol",
         "Automatic",
         "Lahore",
         "Grey",
         "Imported Cars",
         "1800 cc",
         "Sedan",
         "Oct 09, 2022",
         "ABS\nAM/FM Radio\nAir Bags\nAir Conditioning\nAlloy Rims\nCD Player\nDVD Player\nImmobilizer Key\nKeyless Entry\nPower Locks\nPower Mirrors\nPower Steering\nPower Windows\nSun Roof",
         "2007 model full option Chat piller geniune or inner total packed Engine suspension\nTires are 80% Multimedia steeringAndroid panel installed No work required Demand 1650000. All original documents are complete\n. Petrol driven, CNG never installed . After Market Alloy rims. Urgently need to sellthe\ncar. Token tax is up to date.\nMention PakWheels.com when calling Seller to get a good deal"
        ],
        [
         "1",
         "1",
         "https://www.pakwheels.com/used-cars/suzuki-mehran-2012-for-sale-in-faisalabad-6723518",
         "Suzuki Mehran VX Euro II 2012",
         " Eden Gardens, Faisalabad Punjab",
         "2012.0",
         "PKR 7 lacs",
         "100,000 km",
         "Petrol",
         "Manual",
         "Faisalabad",
         "Grey",
         "Imported Cars",
         "800 cc",
         "Hatchback",
         "Oct 09, 2022",
         "AM/FM Radio\nCD Player\nImmobilizer Key",
         "Very smooth drive,70% in orignal paint rest of shower without potien,new tyres,new alloy rims,non accidental,HD headlights installed,good AC,new poshish with soft consule,fuel efficient power full engine with good average,rust free body,urgent sale,minor negotiable\nMention PakWheels.com when calling Seller to get a good deal"
        ],
        [
         "2",
         "2",
         "https://www.pakwheels.com/used-cars/honda-civic-1995-for-sale-in-rawalpindi-6456417",
         "Honda Civic EX 1995",
         " Bostan Road, Rawalpindi Punjab",
         "1995.0",
         "PKR 7.6 lacs",
         "999 km",
         "Petrol",
         "Manual",
         "Lahore",
         "Black",
         "Imported Cars",
         "1500 cc",
         "Sedan",
         "Oct 09, 2022",
         "AM/FM Radio\nAir Conditioning\nAlloy Rims\nCassette Player\nPower Locks\nPower Mirrors\nPower Steering\nPower Windows",
         "1600cc Engine installed Alloy RimsAir Condition WorkingSports Headlights InstalledJust Buy And DrivePrice is little Bit Negotiable for\nSerious Buyers Only\nMention PakWheels.com when calling Seller to get a good deal"
        ],
        [
         "3",
         "3",
         "https://www.pakwheels.com/used-cars/toyota-fortuner-2013-for-sale-in-chakwal-6514454",
         "Toyota Fortuner 2.7 VVTi 2013",
         " Kallar Kahar Road, Chakwal Punjab",
         "2013.0",
         "PKR 70 lacs",
         "94,000 km",
         "Petrol",
         "Automatic",
         "Lahore",
         "Black",
         "Imported Cars",
         "2700 cc",
         "SUV",
         "Oct 09, 2022",
         "ABS\nAM/FM Radio\nAir Bags\nAir Conditioning\nAlloy Rims\nDVD Player\nImmobilizer Key\nKeyless Entry\nNavigation System\nPower Locks\nPower Mirrors\nPower Steering\nPower Windows",
         "Inside out fully original. Original return file is available . In showroom condition.\nMention PakWheels.com when calling Seller to get a good deal"
        ],
        [
         "4",
         "4",
         "https://www.pakwheels.com/used-cars/suzuki-mehran-2015-for-sale-in-muzaffar-gargh-6723516",
         "Suzuki Mehran VX Euro II 2015",
         " Muzaffar Gargh Punjab",
         "2015.0",
         "PKR 8 lacs",
         "86,000 km",
         "Petrol",
         "Manual",
         "Multan",
         "Grey",
         "Imported Cars",
         "796 cc",
         "Hatchback",
         "Oct 09, 2022",
         "AM/FM Radio\nCD Player\nImmobilizer Key",
         "gari total genion hy.chill a.c.new tires.no work required.engine nd suspension ok.. Original return file is available . All service history log maintained. New tires installed recently . Non accidental. Original book is available as well. Engine in pristine condition .\nMention PakWheels.com when calling Seller to get a good deal"
        ]
       ],
       "shape": {
        "columns": 17,
        "rows": 5
       }
      },
      "text/html": [
       "<div>\n",
       "<style scoped>\n",
       "    .dataframe tbody tr th:only-of-type {\n",
       "        vertical-align: middle;\n",
       "    }\n",
       "\n",
       "    .dataframe tbody tr th {\n",
       "        vertical-align: top;\n",
       "    }\n",
       "\n",
       "    .dataframe thead th {\n",
       "        text-align: right;\n",
       "    }\n",
       "</style>\n",
       "<table border=\"1\" class=\"dataframe\">\n",
       "  <thead>\n",
       "    <tr style=\"text-align: right;\">\n",
       "      <th></th>\n",
       "      <th>Unnamed: 0</th>\n",
       "      <th>ad_url</th>\n",
       "      <th>title</th>\n",
       "      <th>location</th>\n",
       "      <th>model_year</th>\n",
       "      <th>price</th>\n",
       "      <th>mileage</th>\n",
       "      <th>engine_type</th>\n",
       "      <th>transmission</th>\n",
       "      <th>registered_in</th>\n",
       "      <th>color</th>\n",
       "      <th>assembly</th>\n",
       "      <th>engine_capacity</th>\n",
       "      <th>body_type</th>\n",
       "      <th>ad_last_updated</th>\n",
       "      <th>car_features</th>\n",
       "      <th>description</th>\n",
       "    </tr>\n",
       "  </thead>\n",
       "  <tbody>\n",
       "    <tr>\n",
       "      <th>0</th>\n",
       "      <td>0</td>\n",
       "      <td>https://www.pakwheels.com/used-cars/honda-civi...</td>\n",
       "      <td>Honda Civic VTi Oriel Prosmatec 1.8 i-VTEC 2007</td>\n",
       "      <td>Islamabad Islamabad</td>\n",
       "      <td>2007.0</td>\n",
       "      <td>PKR 16.5 lacs</td>\n",
       "      <td>100,000 km</td>\n",
       "      <td>Petrol</td>\n",
       "      <td>Automatic</td>\n",
       "      <td>Lahore</td>\n",
       "      <td>Grey</td>\n",
       "      <td>Imported Cars</td>\n",
       "      <td>1800 cc</td>\n",
       "      <td>Sedan</td>\n",
       "      <td>Oct 09, 2022</td>\n",
       "      <td>ABS\\nAM/FM Radio\\nAir Bags\\nAir Conditioning\\n...</td>\n",
       "      <td>2007 model full option Chat piller geniune or ...</td>\n",
       "    </tr>\n",
       "    <tr>\n",
       "      <th>1</th>\n",
       "      <td>1</td>\n",
       "      <td>https://www.pakwheels.com/used-cars/suzuki-meh...</td>\n",
       "      <td>Suzuki Mehran VX Euro II 2012</td>\n",
       "      <td>Eden Gardens, Faisalabad Punjab</td>\n",
       "      <td>2012.0</td>\n",
       "      <td>PKR 7 lacs</td>\n",
       "      <td>100,000 km</td>\n",
       "      <td>Petrol</td>\n",
       "      <td>Manual</td>\n",
       "      <td>Faisalabad</td>\n",
       "      <td>Grey</td>\n",
       "      <td>Imported Cars</td>\n",
       "      <td>800 cc</td>\n",
       "      <td>Hatchback</td>\n",
       "      <td>Oct 09, 2022</td>\n",
       "      <td>AM/FM Radio\\nCD Player\\nImmobilizer Key</td>\n",
       "      <td>Very smooth drive,70% in orignal paint rest of...</td>\n",
       "    </tr>\n",
       "    <tr>\n",
       "      <th>2</th>\n",
       "      <td>2</td>\n",
       "      <td>https://www.pakwheels.com/used-cars/honda-civi...</td>\n",
       "      <td>Honda Civic EX 1995</td>\n",
       "      <td>Bostan Road, Rawalpindi Punjab</td>\n",
       "      <td>1995.0</td>\n",
       "      <td>PKR 7.6 lacs</td>\n",
       "      <td>999 km</td>\n",
       "      <td>Petrol</td>\n",
       "      <td>Manual</td>\n",
       "      <td>Lahore</td>\n",
       "      <td>Black</td>\n",
       "      <td>Imported Cars</td>\n",
       "      <td>1500 cc</td>\n",
       "      <td>Sedan</td>\n",
       "      <td>Oct 09, 2022</td>\n",
       "      <td>AM/FM Radio\\nAir Conditioning\\nAlloy Rims\\nCas...</td>\n",
       "      <td>1600cc Engine installed Alloy RimsAir Conditio...</td>\n",
       "    </tr>\n",
       "    <tr>\n",
       "      <th>3</th>\n",
       "      <td>3</td>\n",
       "      <td>https://www.pakwheels.com/used-cars/toyota-for...</td>\n",
       "      <td>Toyota Fortuner 2.7 VVTi 2013</td>\n",
       "      <td>Kallar Kahar Road, Chakwal Punjab</td>\n",
       "      <td>2013.0</td>\n",
       "      <td>PKR 70 lacs</td>\n",
       "      <td>94,000 km</td>\n",
       "      <td>Petrol</td>\n",
       "      <td>Automatic</td>\n",
       "      <td>Lahore</td>\n",
       "      <td>Black</td>\n",
       "      <td>Imported Cars</td>\n",
       "      <td>2700 cc</td>\n",
       "      <td>SUV</td>\n",
       "      <td>Oct 09, 2022</td>\n",
       "      <td>ABS\\nAM/FM Radio\\nAir Bags\\nAir Conditioning\\n...</td>\n",
       "      <td>Inside out fully original. Original return fil...</td>\n",
       "    </tr>\n",
       "    <tr>\n",
       "      <th>4</th>\n",
       "      <td>4</td>\n",
       "      <td>https://www.pakwheels.com/used-cars/suzuki-meh...</td>\n",
       "      <td>Suzuki Mehran VX Euro II 2015</td>\n",
       "      <td>Muzaffar Gargh Punjab</td>\n",
       "      <td>2015.0</td>\n",
       "      <td>PKR 8 lacs</td>\n",
       "      <td>86,000 km</td>\n",
       "      <td>Petrol</td>\n",
       "      <td>Manual</td>\n",
       "      <td>Multan</td>\n",
       "      <td>Grey</td>\n",
       "      <td>Imported Cars</td>\n",
       "      <td>796 cc</td>\n",
       "      <td>Hatchback</td>\n",
       "      <td>Oct 09, 2022</td>\n",
       "      <td>AM/FM Radio\\nCD Player\\nImmobilizer Key</td>\n",
       "      <td>gari total genion hy.chill a.c.new tires.no wo...</td>\n",
       "    </tr>\n",
       "  </tbody>\n",
       "</table>\n",
       "</div>"
      ],
      "text/plain": [
       "   Unnamed: 0                                             ad_url  \\\n",
       "0           0  https://www.pakwheels.com/used-cars/honda-civi...   \n",
       "1           1  https://www.pakwheels.com/used-cars/suzuki-meh...   \n",
       "2           2  https://www.pakwheels.com/used-cars/honda-civi...   \n",
       "3           3  https://www.pakwheels.com/used-cars/toyota-for...   \n",
       "4           4  https://www.pakwheels.com/used-cars/suzuki-meh...   \n",
       "\n",
       "                                             title  \\\n",
       "0  Honda Civic VTi Oriel Prosmatec 1.8 i-VTEC 2007   \n",
       "1                    Suzuki Mehran VX Euro II 2012   \n",
       "2                              Honda Civic EX 1995   \n",
       "3                    Toyota Fortuner 2.7 VVTi 2013   \n",
       "4                    Suzuki Mehran VX Euro II 2015   \n",
       "\n",
       "                             location  model_year          price     mileage  \\\n",
       "0                 Islamabad Islamabad      2007.0  PKR 16.5 lacs  100,000 km   \n",
       "1     Eden Gardens, Faisalabad Punjab      2012.0     PKR 7 lacs  100,000 km   \n",
       "2      Bostan Road, Rawalpindi Punjab      1995.0   PKR 7.6 lacs      999 km   \n",
       "3   Kallar Kahar Road, Chakwal Punjab      2013.0    PKR 70 lacs   94,000 km   \n",
       "4               Muzaffar Gargh Punjab      2015.0     PKR 8 lacs   86,000 km   \n",
       "\n",
       "  engine_type transmission registered_in  color       assembly  \\\n",
       "0      Petrol    Automatic        Lahore   Grey  Imported Cars   \n",
       "1      Petrol       Manual    Faisalabad   Grey  Imported Cars   \n",
       "2      Petrol       Manual        Lahore  Black  Imported Cars   \n",
       "3      Petrol    Automatic        Lahore  Black  Imported Cars   \n",
       "4      Petrol       Manual        Multan   Grey  Imported Cars   \n",
       "\n",
       "  engine_capacity  body_type ad_last_updated  \\\n",
       "0         1800 cc      Sedan    Oct 09, 2022   \n",
       "1          800 cc  Hatchback    Oct 09, 2022   \n",
       "2         1500 cc      Sedan    Oct 09, 2022   \n",
       "3         2700 cc        SUV    Oct 09, 2022   \n",
       "4          796 cc  Hatchback    Oct 09, 2022   \n",
       "\n",
       "                                        car_features  \\\n",
       "0  ABS\\nAM/FM Radio\\nAir Bags\\nAir Conditioning\\n...   \n",
       "1            AM/FM Radio\\nCD Player\\nImmobilizer Key   \n",
       "2  AM/FM Radio\\nAir Conditioning\\nAlloy Rims\\nCas...   \n",
       "3  ABS\\nAM/FM Radio\\nAir Bags\\nAir Conditioning\\n...   \n",
       "4            AM/FM Radio\\nCD Player\\nImmobilizer Key   \n",
       "\n",
       "                                         description  \n",
       "0  2007 model full option Chat piller geniune or ...  \n",
       "1  Very smooth drive,70% in orignal paint rest of...  \n",
       "2  1600cc Engine installed Alloy RimsAir Conditio...  \n",
       "3  Inside out fully original. Original return fil...  \n",
       "4  gari total genion hy.chill a.c.new tires.no wo...  "
      ]
     },
     "execution_count": 3,
     "metadata": {},
     "output_type": "execute_result"
    }
   ],
   "source": [
    "df = pd.read_csv('E:/Client_Projects/Sir_Malik/Price_Prediction_Model_v4/Data/pakwheels.csv')\n",
    "df.head()"
   ]
  },
  {
   "cell_type": "code",
   "execution_count": 4,
   "id": "918c2c0d",
   "metadata": {},
   "outputs": [
    {
     "data": {
      "text/plain": [
       "Index(['Unnamed: 0', 'ad_url', 'title', 'location', 'model_year', 'price',\n",
       "       'mileage', 'engine_type', 'transmission', 'registered_in', 'color',\n",
       "       'assembly', 'engine_capacity', 'body_type', 'ad_last_updated',\n",
       "       'car_features', 'description'],\n",
       "      dtype='object')"
      ]
     },
     "execution_count": 4,
     "metadata": {},
     "output_type": "execute_result"
    }
   ],
   "source": [
    "df.columns"
   ]
  },
  {
   "cell_type": "code",
   "execution_count": 5,
   "id": "2ed95d10",
   "metadata": {},
   "outputs": [
    {
     "data": {
      "application/vnd.microsoft.datawrangler.viewer.v0+json": {
       "columns": [
        {
         "name": "index",
         "rawType": "object",
         "type": "string"
        },
        {
         "name": "Unnamed: 0",
         "rawType": "float64",
         "type": "float"
        },
        {
         "name": "model_year",
         "rawType": "float64",
         "type": "float"
        }
       ],
       "ref": "18483580-9f3d-4209-b362-c35f16a0da74",
       "rows": [
        [
         "count",
         "89956.0",
         "87449.0"
        ],
        [
         "mean",
         "44977.5",
         "2012.861576461709"
        ],
        [
         "std",
         "25968.20474477715",
         "7.669485417948528"
        ],
        [
         "min",
         "0.0",
         "1990.0"
        ],
        [
         "25%",
         "22488.75",
         "2007.0"
        ],
        [
         "50%",
         "44977.5",
         "2015.0"
        ],
        [
         "75%",
         "67466.25",
         "2019.0"
        ],
        [
         "max",
         "89955.0",
         "2022.0"
        ]
       ],
       "shape": {
        "columns": 2,
        "rows": 8
       }
      },
      "text/html": [
       "<div>\n",
       "<style scoped>\n",
       "    .dataframe tbody tr th:only-of-type {\n",
       "        vertical-align: middle;\n",
       "    }\n",
       "\n",
       "    .dataframe tbody tr th {\n",
       "        vertical-align: top;\n",
       "    }\n",
       "\n",
       "    .dataframe thead th {\n",
       "        text-align: right;\n",
       "    }\n",
       "</style>\n",
       "<table border=\"1\" class=\"dataframe\">\n",
       "  <thead>\n",
       "    <tr style=\"text-align: right;\">\n",
       "      <th></th>\n",
       "      <th>Unnamed: 0</th>\n",
       "      <th>model_year</th>\n",
       "    </tr>\n",
       "  </thead>\n",
       "  <tbody>\n",
       "    <tr>\n",
       "      <th>count</th>\n",
       "      <td>89956.000000</td>\n",
       "      <td>87449.000000</td>\n",
       "    </tr>\n",
       "    <tr>\n",
       "      <th>mean</th>\n",
       "      <td>44977.500000</td>\n",
       "      <td>2012.861576</td>\n",
       "    </tr>\n",
       "    <tr>\n",
       "      <th>std</th>\n",
       "      <td>25968.204745</td>\n",
       "      <td>7.669485</td>\n",
       "    </tr>\n",
       "    <tr>\n",
       "      <th>min</th>\n",
       "      <td>0.000000</td>\n",
       "      <td>1990.000000</td>\n",
       "    </tr>\n",
       "    <tr>\n",
       "      <th>25%</th>\n",
       "      <td>22488.750000</td>\n",
       "      <td>2007.000000</td>\n",
       "    </tr>\n",
       "    <tr>\n",
       "      <th>50%</th>\n",
       "      <td>44977.500000</td>\n",
       "      <td>2015.000000</td>\n",
       "    </tr>\n",
       "    <tr>\n",
       "      <th>75%</th>\n",
       "      <td>67466.250000</td>\n",
       "      <td>2019.000000</td>\n",
       "    </tr>\n",
       "    <tr>\n",
       "      <th>max</th>\n",
       "      <td>89955.000000</td>\n",
       "      <td>2022.000000</td>\n",
       "    </tr>\n",
       "  </tbody>\n",
       "</table>\n",
       "</div>"
      ],
      "text/plain": [
       "         Unnamed: 0    model_year\n",
       "count  89956.000000  87449.000000\n",
       "mean   44977.500000   2012.861576\n",
       "std    25968.204745      7.669485\n",
       "min        0.000000   1990.000000\n",
       "25%    22488.750000   2007.000000\n",
       "50%    44977.500000   2015.000000\n",
       "75%    67466.250000   2019.000000\n",
       "max    89955.000000   2022.000000"
      ]
     },
     "execution_count": 5,
     "metadata": {},
     "output_type": "execute_result"
    }
   ],
   "source": [
    "df.describe()"
   ]
  },
  {
   "cell_type": "code",
   "execution_count": 6,
   "id": "220184c1",
   "metadata": {},
   "outputs": [
    {
     "data": {
      "application/vnd.microsoft.datawrangler.viewer.v0+json": {
       "columns": [
        {
         "name": "index",
         "rawType": "object",
         "type": "string"
        },
        {
         "name": "0",
         "rawType": "int64",
         "type": "integer"
        }
       ],
       "ref": "0513000e-2de4-461e-bbf1-f509b6d8889d",
       "rows": [
        [
         "Unnamed: 0",
         "0"
        ],
        [
         "ad_url",
         "0"
        ],
        [
         "title",
         "0"
        ],
        [
         "location",
         "2"
        ],
        [
         "model_year",
         "2507"
        ],
        [
         "price",
         "2"
        ],
        [
         "mileage",
         "2"
        ],
        [
         "engine_type",
         "955"
        ],
        [
         "transmission",
         "2"
        ],
        [
         "registered_in",
         "2"
        ],
        [
         "color",
         "1863"
        ],
        [
         "assembly",
         "0"
        ],
        [
         "engine_capacity",
         "2"
        ],
        [
         "body_type",
         "8549"
        ],
        [
         "ad_last_updated",
         "2"
        ],
        [
         "car_features",
         "6521"
        ],
        [
         "description",
         "2"
        ]
       ],
       "shape": {
        "columns": 1,
        "rows": 17
       }
      },
      "text/plain": [
       "Unnamed: 0            0\n",
       "ad_url                0\n",
       "title                 0\n",
       "location              2\n",
       "model_year         2507\n",
       "price                 2\n",
       "mileage               2\n",
       "engine_type         955\n",
       "transmission          2\n",
       "registered_in         2\n",
       "color              1863\n",
       "assembly              0\n",
       "engine_capacity       2\n",
       "body_type          8549\n",
       "ad_last_updated       2\n",
       "car_features       6521\n",
       "description           2\n",
       "dtype: int64"
      ]
     },
     "execution_count": 6,
     "metadata": {},
     "output_type": "execute_result"
    }
   ],
   "source": [
    "df.isna().sum()"
   ]
  },
  {
   "cell_type": "code",
   "execution_count": 7,
   "id": "a4c2b22e",
   "metadata": {},
   "outputs": [
    {
     "name": "stdout",
     "output_type": "stream",
     "text": [
      "2012\n"
     ]
    },
    {
     "data": {
      "text/plain": [
       "np.int64(0)"
      ]
     },
     "execution_count": 7,
     "metadata": {},
     "output_type": "execute_result"
    }
   ],
   "source": [
    "model_year_mean = int(df.model_year.mean())\n",
    "print(model_year_mean)\n",
    "df.model_year = df.model_year.fillna(model_year_mean)\n",
    "df.model_year.isna().sum()"
   ]
  },
  {
   "cell_type": "code",
   "execution_count": 8,
   "id": "b46d7826",
   "metadata": {},
   "outputs": [
    {
     "data": {
      "text/plain": [
       "array(['Petrol', 'Diesel', 'Hybrid', nan], dtype=object)"
      ]
     },
     "execution_count": 8,
     "metadata": {},
     "output_type": "execute_result"
    }
   ],
   "source": [
    "df.engine_type.unique()"
   ]
  },
  {
   "cell_type": "code",
   "execution_count": 9,
   "id": "bff44209",
   "metadata": {},
   "outputs": [
    {
     "data": {
      "text/plain": [
       "array(['Sedan', 'Hatchback', 'SUV', 'Mini Van', 'MPV', nan,\n",
       "       'Double Cabin', 'Compact sedan', 'Pick Up', 'Van', 'Micro Van',\n",
       "       'High Roof', 'Compact SUV', 'Station Wagon', 'Crossover', 'Coupe',\n",
       "       'Subcompact hatchback', 'Convertible', 'Truck',\n",
       "       'Off-Road Vehicles', 'Single Cabin', 'Mini Vehicles',\n",
       "       'Compact hatchback'], dtype=object)"
      ]
     },
     "execution_count": 9,
     "metadata": {},
     "output_type": "execute_result"
    }
   ],
   "source": [
    "df.body_type.unique()"
   ]
  },
  {
   "cell_type": "code",
   "execution_count": 10,
   "id": "b57c7c0d",
   "metadata": {},
   "outputs": [
    {
     "data": {
      "text/plain": [
       "array(['ABS\\nAM/FM Radio\\nAir Bags\\nAir Conditioning\\nAlloy Rims\\nCD Player\\nDVD Player\\nImmobilizer Key\\nKeyless Entry\\nPower Locks\\nPower Mirrors\\nPower Steering\\nPower Windows\\nSun Roof',\n",
       "       'AM/FM Radio\\nCD Player\\nImmobilizer Key',\n",
       "       'AM/FM Radio\\nAir Conditioning\\nAlloy Rims\\nCassette Player\\nPower Locks\\nPower Mirrors\\nPower Steering\\nPower Windows',\n",
       "       ...,\n",
       "       'ABS\\nAM/FM Radio\\nAir Bags\\nAir Conditioning\\nAlloy Rims\\nClimate Control\\nCruise Control\\nFront Camera\\nFront Speakers\\nHeated Seats\\nImmobilizer Key\\nKeyless Entry\\nNavigation System\\nPower Locks\\nPower Mirrors\\nPower Steering\\nPower Windows\\nRear AC Vents\\nRear Camera\\nRear Speakers\\nSteering Switches\\nUSB and Auxillary Cable',\n",
       "       'AM/FM Radio\\nAir Conditioning\\nCassette Player\\nCoolBox\\nDVD Player\\nKeyless Entry\\nPower Locks\\nPower Steering',\n",
       "       'Air Conditioning\\nDVD Player\\nNavigation System\\nPower Locks\\nPower Mirrors\\nPower Steering\\nPower Windows'],\n",
       "      shape=(6409,), dtype=object)"
      ]
     },
     "execution_count": 10,
     "metadata": {},
     "output_type": "execute_result"
    }
   ],
   "source": [
    "df.car_features.unique()"
   ]
  },
  {
   "cell_type": "code",
   "execution_count": 11,
   "id": "e64fe42e",
   "metadata": {},
   "outputs": [
    {
     "data": {
      "text/plain": [
       "(89956, 17)"
      ]
     },
     "execution_count": 11,
     "metadata": {},
     "output_type": "execute_result"
    }
   ],
   "source": [
    "df.shape"
   ]
  },
  {
   "cell_type": "code",
   "execution_count": 12,
   "id": "e0703801",
   "metadata": {},
   "outputs": [
    {
     "data": {
      "application/vnd.microsoft.datawrangler.viewer.v0+json": {
       "columns": [
        {
         "name": "index",
         "rawType": "object",
         "type": "string"
        },
        {
         "name": "0",
         "rawType": "int64",
         "type": "integer"
        }
       ],
       "ref": "659c7499-1224-4dc8-b5e7-3dac050975ca",
       "rows": [
        [
         "Unnamed: 0",
         "0"
        ],
        [
         "ad_url",
         "0"
        ],
        [
         "title",
         "0"
        ],
        [
         "location",
         "0"
        ],
        [
         "model_year",
         "0"
        ],
        [
         "price",
         "0"
        ],
        [
         "mileage",
         "0"
        ],
        [
         "engine_type",
         "0"
        ],
        [
         "transmission",
         "0"
        ],
        [
         "registered_in",
         "0"
        ],
        [
         "color",
         "0"
        ],
        [
         "assembly",
         "0"
        ],
        [
         "engine_capacity",
         "0"
        ],
        [
         "body_type",
         "0"
        ],
        [
         "ad_last_updated",
         "0"
        ],
        [
         "car_features",
         "0"
        ],
        [
         "description",
         "0"
        ]
       ],
       "shape": {
        "columns": 1,
        "rows": 17
       }
      },
      "text/plain": [
       "Unnamed: 0         0\n",
       "ad_url             0\n",
       "title              0\n",
       "location           0\n",
       "model_year         0\n",
       "price              0\n",
       "mileage            0\n",
       "engine_type        0\n",
       "transmission       0\n",
       "registered_in      0\n",
       "color              0\n",
       "assembly           0\n",
       "engine_capacity    0\n",
       "body_type          0\n",
       "ad_last_updated    0\n",
       "car_features       0\n",
       "description        0\n",
       "dtype: int64"
      ]
     },
     "execution_count": 12,
     "metadata": {},
     "output_type": "execute_result"
    }
   ],
   "source": [
    "df2 = df.dropna()\n",
    "df2.isna().sum()"
   ]
  },
  {
   "cell_type": "code",
   "execution_count": 13,
   "id": "a55216c9",
   "metadata": {},
   "outputs": [
    {
     "data": {
      "text/plain": [
       "(75665, 17)"
      ]
     },
     "execution_count": 13,
     "metadata": {},
     "output_type": "execute_result"
    }
   ],
   "source": [
    "df2.shape"
   ]
  },
  {
   "cell_type": "code",
   "execution_count": 14,
   "id": "b6c270d1",
   "metadata": {},
   "outputs": [],
   "source": [
    "df2.to_csv('E:/Client_Projects/Sir_Malik/Price_Prediction_Model_v4/Data/pakwheels_cleaned.csv')"
   ]
  },
  {
   "cell_type": "code",
   "execution_count": null,
   "id": "6f92e727",
   "metadata": {},
   "outputs": [],
   "source": []
  }
 ],
 "metadata": {
  "kernelspec": {
   "display_name": "V4_Traning",
   "language": "python",
   "name": "python3"
  },
  "language_info": {
   "codemirror_mode": {
    "name": "ipython",
    "version": 3
   },
   "file_extension": ".py",
   "mimetype": "text/x-python",
   "name": "python",
   "nbconvert_exporter": "python",
   "pygments_lexer": "ipython3",
   "version": "3.13.5"
  }
 },
 "nbformat": 4,
 "nbformat_minor": 5
}
